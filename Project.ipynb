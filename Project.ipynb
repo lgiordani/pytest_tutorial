{
 "cells": [
  {
   "cell_type": "markdown",
   "metadata": {},
   "source": [
    "# Dictregister\n",
    "\n",
    "I often need to manage lists of dictionaries (NoSQL-style), and I'd like to have a\n",
    "structure that can contains them and allows me to perform some changes and filters on them.\n",
    "\n",
    "I want it to behave like a list"
   ]
  },
  {
   "cell_type": "code",
   "execution_count": null,
   "metadata": {},
   "outputs": [],
   "source": [
    "d = dr.DictRegister()\n",
    "\n",
    "d.append({'a': 1, 'b': 2})"
   ]
  },
  {
   "cell_type": "markdown",
   "metadata": {},
   "source": [
    "I want to also be able to initialize it with an already existing list"
   ]
  },
  {
   "cell_type": "code",
   "execution_count": null,
   "metadata": {},
   "outputs": [],
   "source": [
    "d = dr.DictRegister([\n",
    "    {'a': 1, 'b': 2},\n",
    "    {'a': 5, 'c': 6},\n",
    "    {'b': 3, 'c': 9}\n",
    "])"
   ]
  },
  {
   "cell_type": "markdown",
   "metadata": {},
   "source": [
    "I need a `find()` method that selects all the dictionaries that contain a given key"
   ]
  },
  {
   "cell_type": "code",
   "execution_count": null,
   "metadata": {},
   "outputs": [],
   "source": [
    "d = dr.DictRegister([\n",
    "    {'a': 1, 'b': 2},\n",
    "    {'a': 5, 'c': 6},\n",
    "    {'b': 3, 'c': 9}\n",
    "])\n",
    "\n",
    "d.find('a') -> d = dr.DictRegister([\n",
    "    {'a': 1, 'b': 2},\n",
    "    {'a': 5, 'c': 6},\n",
    "])"
   ]
  },
  {
   "cell_type": "markdown",
   "metadata": {},
   "source": [
    "The `find()` method shall also be able to select all the dictionaries with a given key/value pair"
   ]
  },
  {
   "cell_type": "code",
   "execution_count": null,
   "metadata": {},
   "outputs": [],
   "source": [
    "d = dr.DictRegister([\n",
    "    {'a': 1, 'b': 2, 'c': 4},\n",
    "    {'a': 5, 'b': 6, 'c': 4},\n",
    "    {'b': 3, 'c': 9}\n",
    "])\n",
    "\n",
    "d.find(c=4) -> dr.DictRegister([\n",
    "    {'a': 1, 'b': 2, 'c': 4},\n",
    "    {'a': 5, 'b': 6, 'c': 4}\n",
    "])"
   ]
  },
  {
   "cell_type": "markdown",
   "metadata": {},
   "source": [
    "Last, the `find()` method shall support a special syntax that allows to find all the dictionaries with a given key with a value greater than a given one."
   ]
  },
  {
   "cell_type": "code",
   "execution_count": null,
   "metadata": {},
   "outputs": [],
   "source": [
    "d = dr.DictRegister([\n",
    "    {'a': 1, 'b': 2, 'c': 4},\n",
    "    {'a': 5, 'b': 6, 'c': 4},\n",
    "    {'b': 3, 'c': 9}\n",
    "])\n",
    "\n",
    "d.find(b__gt=3) -> dr.DictRegister([{'a': 5, 'b': 6, 'c': 4}])"
   ]
  }
 ],
 "metadata": {
  "kernelspec": {
   "display_name": "Python 3",
   "language": "python",
   "name": "python3"
  },
  "language_info": {
   "codemirror_mode": {
    "name": "ipython",
    "version": 3
   },
   "file_extension": ".py",
   "mimetype": "text/x-python",
   "name": "python",
   "nbconvert_exporter": "python",
   "pygments_lexer": "ipython3",
   "version": "3.5.3"
  }
 },
 "nbformat": 4,
 "nbformat_minor": 2
}
